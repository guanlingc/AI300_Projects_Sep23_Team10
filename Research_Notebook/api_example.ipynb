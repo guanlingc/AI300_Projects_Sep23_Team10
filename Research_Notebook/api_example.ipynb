{
 "cells": [
  {
   "cell_type": "code",
   "execution_count": 1,
   "metadata": {},
   "outputs": [],
   "source": [
    "import requests\n",
    "\n",
    "website = 'http://127.0.0.1:5000'"
   ]
  },
  {
   "cell_type": "code",
   "execution_count": 3,
   "metadata": {},
   "outputs": [
    {
     "ename": "ModuleNotFoundError",
     "evalue": "No module named 'model'",
     "output_type": "error",
     "traceback": [
      "\u001b[0;31m---------------------------------------------------------------------------\u001b[0m",
      "\u001b[0;31mModuleNotFoundError\u001b[0m                       Traceback (most recent call last)",
      "\u001b[1;32m/Users/guanling/Documents/Heicoder AI Nanodegree/AI300/AI300_Projects_Sep23_Team10/Research_Notebook/api_example.ipynb Cell 2\u001b[0m line \u001b[0;36m1\n\u001b[0;32m----> <a href='vscode-notebook-cell:/Users/guanling/Documents/Heicoder%20AI%20Nanodegree/AI300/AI300_Projects_Sep23_Team10/Research_Notebook/api_example.ipynb#W0sZmlsZQ%3D%3D?line=0'>1</a>\u001b[0m \u001b[39mfrom\u001b[39;00m \u001b[39mmodel\u001b[39;00m \u001b[39mimport\u001b[39;00m Model\n\u001b[1;32m      <a href='vscode-notebook-cell:/Users/guanling/Documents/Heicoder%20AI%20Nanodegree/AI300/AI300_Projects_Sep23_Team10/Research_Notebook/api_example.ipynb#W0sZmlsZQ%3D%3D?line=2'>3</a>\u001b[0m url \u001b[39m=\u001b[39m \u001b[39mf\u001b[39m\u001b[39m'\u001b[39m\u001b[39m{\u001b[39;00mwebsite\u001b[39m}\u001b[39;00m\u001b[39m/api/predict\u001b[39m\u001b[39m'\u001b[39m\n\u001b[1;32m      <a href='vscode-notebook-cell:/Users/guanling/Documents/Heicoder%20AI%20Nanodegree/AI300/AI300_Projects_Sep23_Team10/Research_Notebook/api_example.ipynb#W0sZmlsZQ%3D%3D?line=3'>4</a>\u001b[0m beneficiary_example \u001b[39m=\u001b[39m {\n\u001b[1;32m      <a href='vscode-notebook-cell:/Users/guanling/Documents/Heicoder%20AI%20Nanodegree/AI300/AI300_Projects_Sep23_Team10/Research_Notebook/api_example.ipynb#W0sZmlsZQ%3D%3D?line=4'>5</a>\u001b[0m     \u001b[39m\"\u001b[39m\u001b[39mhas_premium_tech_support\u001b[39m\u001b[39m\"\u001b[39m: \u001b[39m\"\u001b[39m\u001b[39mYes\u001b[39m\u001b[39m\"\u001b[39m,\n\u001b[1;32m      <a href='vscode-notebook-cell:/Users/guanling/Documents/Heicoder%20AI%20Nanodegree/AI300/AI300_Projects_Sep23_Team10/Research_Notebook/api_example.ipynb#W0sZmlsZQ%3D%3D?line=5'>6</a>\u001b[0m     \u001b[39m\"\u001b[39m\u001b[39mcontract_type\u001b[39m\u001b[39m\"\u001b[39m: \u001b[39m\"\u001b[39m\u001b[39mTwo Year\u001b[39m\u001b[39m\"\u001b[39m,\n\u001b[0;32m   (...)\u001b[0m\n\u001b[1;32m     <a href='vscode-notebook-cell:/Users/guanling/Documents/Heicoder%20AI%20Nanodegree/AI300/AI300_Projects_Sep23_Team10/Research_Notebook/api_example.ipynb#W0sZmlsZQ%3D%3D?line=9'>10</a>\u001b[0m     \u001b[39m\"\u001b[39m\u001b[39mnum_referrals\u001b[39m\u001b[39m\"\u001b[39m: \u001b[39m3\u001b[39m\n\u001b[1;32m     <a href='vscode-notebook-cell:/Users/guanling/Documents/Heicoder%20AI%20Nanodegree/AI300/AI300_Projects_Sep23_Team10/Research_Notebook/api_example.ipynb#W0sZmlsZQ%3D%3D?line=10'>11</a>\u001b[0m }\n",
      "\u001b[0;31mModuleNotFoundError\u001b[0m: No module named 'model'"
     ]
    }
   ],
   "source": [
    "from model import Model\n",
    "\n",
    "url = f'{website}/api/predict'\n",
    "beneficiary_example = {\n",
    "    \"has_premium_tech_support\": \"Yes\",\n",
    "    \"contract_type\": \"Two Year\",\n",
    "    \"internet_type\": \"Cable\",\n",
    "    \"has_unlimited_data\": \"Yes\",\n",
    "    \"num_dependents\": 0,\n",
    "    \"num_referrals\": 3\n",
    "}\n",
    "model_inputs = list(beneficiary_example.values())\n",
    "\n",
    "print(model_inputs)                  # [30, 'female', 20, 1, 'yes', 'southwest']\n",
    "print(Model().predict(model_inputs)) # 17353.51581464062"
   ]
  },
  {
   "cell_type": "code",
   "execution_count": null,
   "metadata": {},
   "outputs": [],
   "source": []
  }
 ],
 "metadata": {
  "kernelspec": {
   "display_name": "venv",
   "language": "python",
   "name": "python3"
  },
  "language_info": {
   "codemirror_mode": {
    "name": "ipython",
    "version": 3
   },
   "file_extension": ".py",
   "mimetype": "text/x-python",
   "name": "python",
   "nbconvert_exporter": "python",
   "pygments_lexer": "ipython3",
   "version": "3.10.9"
  },
  "orig_nbformat": 4
 },
 "nbformat": 4,
 "nbformat_minor": 2
}
