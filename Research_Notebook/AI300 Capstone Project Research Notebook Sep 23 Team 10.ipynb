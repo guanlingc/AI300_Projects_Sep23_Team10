{
 "cells": [
  {
   "cell_type": "markdown",
   "id": "12d0368c",
   "metadata": {},
   "source": [
    "### Setting up the connection"
   ]
  },
  {
   "cell_type": "code",
   "execution_count": null,
   "id": "3ff2997c",
   "metadata": {},
   "outputs": [],
   "source": [
    "!pip install xgboost==2.0.1\n",
    "!pip install catboost==1.2.2\n"
   ]
  },
  {
   "cell_type": "code",
   "execution_count": null,
   "id": "08b55e54",
   "metadata": {},
   "outputs": [],
   "source": [
    "# Import Packages\n",
    "import pymysql\n",
    "import pandas as pd"
   ]
  },
  {
   "cell_type": "code",
   "execution_count": null,
   "id": "79c8ecfa",
   "metadata": {},
   "outputs": [],
   "source": [
    "# Using mymysql to connect to ai300 remote database, these are the credentials\n",
    "ENDPOINT = 'heicoders-playground.c2ced10ceyki.ap-southeast-1.rds.amazonaws.com'\n",
    "PORT = 3306\n",
    "USERNAME = 'student300'\n",
    "DBNAME = 'ai300_capstone'\n",
    "PASSWORD = 'heicoders_AI300'   # Default password is empty. Do change this if you had previously set a password.\n",
    "CURSORCLASS = pymysql.cursors.DictCursor"
   ]
  },
  {
   "cell_type": "code",
   "execution_count": null,
   "id": "b7a75623",
   "metadata": {},
   "outputs": [],
   "source": [
    "# This is the connection object\n",
    "def initiate_local_connection():\n",
    "    try:\n",
    "        connection = pymysql.connect(host=ENDPOINT,\n",
    "                                     port=PORT,\n",
    "                                     user=USERNAME,\n",
    "                                     passwd=PASSWORD,\n",
    "                                     db=DBNAME,\n",
    "                                     cursorclass=CURSORCLASS)\n",
    "        print('[+] Local Connection Successful')\n",
    "    except Exception as e:\n",
    "        print(f'[+] Local Connection Failed: {e}')\n",
    "        connection = None\n",
    "\n",
    "    return connection"
   ]
  },
  {
   "cell_type": "code",
   "execution_count": null,
   "id": "0702a324",
   "metadata": {},
   "outputs": [],
   "source": [
    "connection = initiate_local_connection()"
   ]
  },
  {
   "cell_type": "code",
   "execution_count": null,
   "id": "80c7663a",
   "metadata": {},
   "outputs": [],
   "source": [
    "sql_query = f'SELECT * FROM ai300_capstone.account;'\n",
    "\n",
    "def get_records(sql_query):\n",
    "    try:\n",
    "        with connection.cursor() as cursor:\n",
    "            cursor.execute(sql_query)\n",
    "\n",
    "        # Connection is not autocommit by default, so we must commit to save changes\n",
    "        connection.commit()\n",
    "        \n",
    "        # Fetch all the records from SQL query output\n",
    "        results = cursor.fetchall()\n",
    "        \n",
    "        # Convert results into pandas dataframe\n",
    "        df = pd.DataFrame(results)\n",
    "        \n",
    "        print(f'Successfully retrieved records')\n",
    "        \n",
    "        return df\n",
    "        \n",
    "    except Exception as e:\n",
    "        print(f'Error encountered: {e}')"
   ]
  },
  {
   "cell_type": "markdown",
   "id": "d4ced4ad",
   "metadata": {},
   "source": [
    "### SQL queries to retrieve information from remote database"
   ]
  },
  {
   "cell_type": "code",
   "execution_count": null,
   "id": "0a9e6aa9",
   "metadata": {},
   "outputs": [],
   "source": [
    "sql_query = '''\n",
    "        SELECT * \n",
    "        FROM churn_status cs\n",
    "        INNER JOIN customer c ON cs.customer_id = c.customer_id \n",
    "        INNER JOIN account a ON cs.customer_id = a.customer_id\n",
    "        INNER JOIN city ci ON c.zip_code = ci.zip_code\n",
    "        INNER JOIN account_usage au ON a.account_id = au.account_id;\n",
    "'''\n",
    "\n",
    "combined_df = get_records(sql_query)\n",
    "combined_df"
   ]
  },
  {
   "cell_type": "code",
   "execution_count": null,
   "id": "bc5c8beb",
   "metadata": {
    "scrolled": true
   },
   "outputs": [],
   "source": [
    "sql_query = f'SELECT * FROM ai300_capstone.account;'\n",
    "\n",
    "df1 = get_records(sql_query)\n",
    "df1"
   ]
  },
  {
   "cell_type": "code",
   "execution_count": null,
   "id": "407dba23",
   "metadata": {},
   "outputs": [],
   "source": [
    "sql_query = f'SELECT * FROM ai300_capstone.account_usage;'\n",
    "\n",
    "df2 = get_records(sql_query)\n",
    "df2"
   ]
  },
  {
   "cell_type": "code",
   "execution_count": null,
   "id": "a845a4da",
   "metadata": {},
   "outputs": [],
   "source": [
    "sql_query = f'SELECT * FROM ai300_capstone.churn_status;'\n",
    "\n",
    "df3 = get_records(sql_query)\n",
    "df3"
   ]
  },
  {
   "cell_type": "code",
   "execution_count": null,
   "id": "a93b86bc",
   "metadata": {},
   "outputs": [],
   "source": [
    "sql_query = f'SELECT * FROM ai300_capstone.city;'\n",
    "\n",
    "df4 = get_records(sql_query)\n",
    "df4"
   ]
  },
  {
   "cell_type": "code",
   "execution_count": null,
   "id": "e64fbe79",
   "metadata": {},
   "outputs": [],
   "source": [
    "sql_query = f'SELECT * FROM ai300_capstone.customer;'\n",
    "\n",
    "df5 = get_records(sql_query)\n",
    "df5"
   ]
  },
  {
   "cell_type": "markdown",
   "id": "33655ba8",
   "metadata": {},
   "source": [
    "### Dropping all repeated columns from the combined dataframe"
   ]
  },
  {
   "cell_type": "code",
   "execution_count": null,
   "id": "eea91dd7",
   "metadata": {},
   "outputs": [],
   "source": [
    "combined_df = combined_df.drop(\n",
    "    columns=['c.customer_id','a.customer_id','ci.zip_code','au.account_id']\n",
    ")\n",
    "\n",
    "combined_df"
   ]
  },
  {
   "cell_type": "markdown",
   "id": "8f5a9b26",
   "metadata": {},
   "source": [
    "### EDA \n",
    "#### Currently there are df1 to df5, each representing an extracted table, while combined_df is all data in 1 table"
   ]
  },
  {
   "cell_type": "code",
   "execution_count": null,
   "id": "83748964",
   "metadata": {},
   "outputs": [],
   "source": [
    "# since all tables have been combined together\n",
    "pd.options.display.max_columns = 50"
   ]
  },
  {
   "cell_type": "code",
   "execution_count": null,
   "id": "fd3b200c",
   "metadata": {},
   "outputs": [],
   "source": [
    "combined_df.head()\n",
    "\n",
    "# target parameter is churn label"
   ]
  },
  {
   "cell_type": "code",
   "execution_count": null,
   "id": "54b6bbd4",
   "metadata": {},
   "outputs": [],
   "source": [
    "combined_df.info()"
   ]
  },
  {
   "cell_type": "code",
   "execution_count": null,
   "id": "02f21157",
   "metadata": {},
   "outputs": [],
   "source": [
    "combined_df.nunique()"
   ]
  },
  {
   "cell_type": "code",
   "execution_count": null,
   "id": "c60d8614",
   "metadata": {},
   "outputs": [],
   "source": [
    "df1.info()\n",
    "print()\n",
    "df2.info()\n",
    "print()\n",
    "df3.info()\n",
    "print()\n",
    "df4.info()\n",
    "print()\n",
    "df5.info()\n",
    "print()"
   ]
  },
  {
   "cell_type": "code",
   "execution_count": null,
   "id": "9adaee30",
   "metadata": {},
   "outputs": [],
   "source": [
    "df1.nunique()"
   ]
  },
  {
   "cell_type": "code",
   "execution_count": null,
   "id": "65838b0e",
   "metadata": {},
   "outputs": [],
   "source": [
    "df5.nunique()"
   ]
  },
  {
   "cell_type": "code",
   "execution_count": null,
   "id": "0b5e6300",
   "metadata": {},
   "outputs": [],
   "source": [
    "import plotly.express as px\n",
    "\n",
    "corr = combined_df.corr()\n",
    "fig = px.imshow(corr, color_continuous_scale = 'Brwnyl', text_auto = True)\n",
    "fig.update_xaxes(side=\"top\")\n",
    "fig.show()\n"
   ]
  },
  {
   "cell_type": "markdown",
   "id": "f9737c70",
   "metadata": {},
   "source": [
    "### Preliminary Visualizations"
   ]
  },
  {
   "cell_type": "code",
   "execution_count": null,
   "id": "9ed7ad95",
   "metadata": {},
   "outputs": [],
   "source": [
    "import matplotlib.pyplot as plt \n",
    "import plotly.express as px"
   ]
  },
  {
   "cell_type": "code",
   "execution_count": null,
   "id": "da236c5a",
   "metadata": {},
   "outputs": [],
   "source": [
    "fig = px.scatter_matrix(combined_df, dimensions=['zip_code', 'city', 'latitutde','longitude','population'],\n",
    "                       color='churn_label')\n",
    "\n",
    "\n",
    "fig.show()\n"
   ]
  },
  {
   "cell_type": "code",
   "execution_count": null,
   "id": "279bbf51",
   "metadata": {},
   "outputs": [],
   "source": [
    "fig = px.scatter_matrix(combined_df, dimensions=['gender', 'age', 'senior_citizen','married','num_dependents'],\n",
    "                       color='churn_label')\n",
    "\n",
    "\n",
    "fig.show()\n"
   ]
  },
  {
   "cell_type": "code",
   "execution_count": null,
   "id": "d99607ad",
   "metadata": {},
   "outputs": [],
   "source": [
    "fig = px.scatter_matrix(combined_df, \n",
    "                        dimensions=['avg_long_distance_fee_monthly', 'total_long_distance_fee', \n",
    "                                    'avg_gb_download_monthly','stream_tv','stream_movie','stream_music'\n",
    "                                   ,'total_monthly_fee','total_charges_quarter','total_refunds'],\n",
    "                       color='churn_label')\n",
    "\n",
    "\n",
    "fig.show()"
   ]
  },
  {
   "cell_type": "code",
   "execution_count": null,
   "id": "2c0b4473",
   "metadata": {},
   "outputs": [],
   "source": [
    "fig = px.scatter_matrix(combined_df, \n",
    "                        dimensions=['avg_long_distance_fee_monthly', 'total_long_distance_fee',\n",
    "                                    'total_charges_quarter','avg_gb_download_monthly' \n",
    "                                  ],\n",
    "                       color='churn_label')\n",
    "\n",
    "\n",
    "fig.show()"
   ]
  },
  {
   "cell_type": "code",
   "execution_count": null,
   "id": "78f8cc20",
   "metadata": {},
   "outputs": [],
   "source": [
    "fig = px.scatter_matrix(combined_df, \n",
    "                        dimensions=['tenure_months', 'num_referrals', \n",
    "                                    'has_internet_service','internet_type','has_unlimited_data','has_phone_service',\n",
    "                                   'has_multiple_lines','has_premium_tech_support','has_online_security',\n",
    "                                   'has_online_backup','has_device_protection','contract_type','paperless_billing',\n",
    "                                   'payment_method'],\n",
    "                       color='churn_label')\n",
    "\n",
    "\n",
    "fig.show()"
   ]
  },
  {
   "cell_type": "code",
   "execution_count": null,
   "id": "20b4dc18",
   "metadata": {},
   "outputs": [],
   "source": [
    "fig = px.scatter_matrix(combined_df, \n",
    "                        dimensions=['tenure_months', 'num_referrals', \n",
    "                                    'internet_type','contract_type',\n",
    "                                   'payment_method'],\n",
    "                       color='churn_label')\n",
    "\n",
    "\n",
    "fig.show()"
   ]
  },
  {
   "cell_type": "code",
   "execution_count": null,
   "id": "01f63090",
   "metadata": {},
   "outputs": [],
   "source": [
    "fig = px.histogram(combined_df,  x='churn_label',\n",
    "                    color='num_referrals',\n",
    "                    height = 400)\n",
    "\n",
    "\n",
    "fig.show()\n",
    "\n",
    "#num_referrals 0 has a larger portion"
   ]
  },
  {
   "cell_type": "code",
   "execution_count": null,
   "id": "47c13535",
   "metadata": {},
   "outputs": [],
   "source": [
    "fig = px.histogram(combined_df,  x='churn_label',\n",
    "                    color='internet_type',\n",
    "                    height = 400)\n",
    "\n",
    "\n",
    "fig.show()\n",
    "\n",
    "#internet type fiber optic is a bigger portion"
   ]
  },
  {
   "cell_type": "code",
   "execution_count": null,
   "id": "c39973d5",
   "metadata": {},
   "outputs": [],
   "source": [
    "fig = px.histogram(combined_df,  x='churn_label',\n",
    "                    color='contract_type',\n",
    "                    height = 400)\n",
    "\n",
    "\n",
    "fig.show()\n",
    "\n",
    "#contract_type 0 has a larger portion of leavers"
   ]
  },
  {
   "cell_type": "code",
   "execution_count": null,
   "id": "a446b7ad",
   "metadata": {},
   "outputs": [],
   "source": [
    "fig = px.histogram(combined_df,  x='churn_label',\n",
    "                    color='population',\n",
    "                    height = 400)\n",
    "\n",
    "\n",
    "fig.show()\n"
   ]
  },
  {
   "cell_type": "code",
   "execution_count": null,
   "id": "c2e3faa6",
   "metadata": {},
   "outputs": [],
   "source": [
    "fig = px.histogram(combined_df,  x='churn_label',\n",
    "                    color='tenure_months',\n",
    "                    height = 400)\n",
    "\n",
    "\n",
    "fig.show()\n"
   ]
  },
  {
   "cell_type": "code",
   "execution_count": null,
   "id": "282ce1a0",
   "metadata": {},
   "outputs": [],
   "source": [
    "fig = px.histogram(combined_df,  x='churn_label',\n",
    "                    color='has_internet_service',\n",
    "                    height = 400)\n",
    "\n",
    "\n",
    "fig.show()\n"
   ]
  },
  {
   "cell_type": "code",
   "execution_count": null,
   "id": "f178621a",
   "metadata": {},
   "outputs": [],
   "source": [
    "fig = px.histogram(combined_df,  x='churn_label',\n",
    "                    color='internet_type',\n",
    "                    height = 400)\n",
    "\n",
    "\n",
    "fig.show()\n"
   ]
  },
  {
   "cell_type": "code",
   "execution_count": null,
   "id": "3fc3f9fb",
   "metadata": {},
   "outputs": [],
   "source": [
    "fig = px.histogram(combined_df,  x='churn_label',\n",
    "                    color='has_unlimited_data',\n",
    "                    height = 400)\n",
    "\n",
    "\n",
    "fig.show()\n"
   ]
  },
  {
   "cell_type": "code",
   "execution_count": null,
   "id": "e7c80b20",
   "metadata": {},
   "outputs": [],
   "source": [
    "fig = px.histogram(combined_df,  x='churn_label',\n",
    "                    color='has_phone_service',\n",
    "                    height = 400)\n",
    "\n",
    "\n",
    "fig.show()\n"
   ]
  },
  {
   "cell_type": "code",
   "execution_count": null,
   "id": "f4db4e61",
   "metadata": {},
   "outputs": [],
   "source": [
    "fig = px.histogram(combined_df,  x='churn_label',\n",
    "                    color='has_multiple_lines',\n",
    "                    height = 400)\n",
    "\n",
    "\n",
    "fig.show()\n"
   ]
  },
  {
   "cell_type": "code",
   "execution_count": null,
   "id": "7f3e4aea",
   "metadata": {},
   "outputs": [],
   "source": [
    "fig = px.histogram(combined_df,  x='churn_label',\n",
    "                    color='has_premium_tech_support',\n",
    "                    height = 400)\n",
    "\n",
    "\n",
    "fig.show()\n"
   ]
  },
  {
   "cell_type": "code",
   "execution_count": null,
   "id": "a84e1cbe",
   "metadata": {},
   "outputs": [],
   "source": [
    "fig = px.histogram(combined_df,  x='churn_label',\n",
    "                    color='has_online_security',\n",
    "                    height = 400)\n",
    "\n",
    "\n",
    "fig.show()\n"
   ]
  },
  {
   "cell_type": "code",
   "execution_count": null,
   "id": "080bd0bc",
   "metadata": {},
   "outputs": [],
   "source": [
    "fig = px.histogram(combined_df,  x='churn_label',\n",
    "                    color='has_online_backup',\n",
    "                    height = 400)\n",
    "\n",
    "\n",
    "fig.show()\n"
   ]
  },
  {
   "cell_type": "code",
   "execution_count": null,
   "id": "8b64bd29",
   "metadata": {},
   "outputs": [],
   "source": [
    "fig = px.histogram(combined_df,  x='churn_label',\n",
    "                    color='has_device_protection',\n",
    "                    height = 400)\n",
    "\n",
    "\n",
    "fig.show()\n"
   ]
  },
  {
   "cell_type": "code",
   "execution_count": null,
   "id": "6d512584",
   "metadata": {},
   "outputs": [],
   "source": [
    "fig = px.histogram(combined_df,  x='churn_label',\n",
    "                    color='paperless_billing',\n",
    "                    height = 400)\n",
    "\n",
    "\n",
    "fig.show()\n"
   ]
  },
  {
   "cell_type": "code",
   "execution_count": null,
   "id": "45a42596",
   "metadata": {},
   "outputs": [],
   "source": [
    "fig = px.histogram(combined_df,  x='churn_label',\n",
    "                    color='payment_method',\n",
    "                    height = 400)\n",
    "\n",
    "\n",
    "fig.show()\n"
   ]
  },
  {
   "cell_type": "code",
   "execution_count": null,
   "id": "95ffc4ac",
   "metadata": {},
   "outputs": [],
   "source": [
    "fig = px.histogram(combined_df,  x='churn_label',\n",
    "                    color='stream_tv',\n",
    "                    height = 400)\n",
    "\n",
    "\n",
    "fig.show()\n"
   ]
  },
  {
   "cell_type": "code",
   "execution_count": null,
   "id": "2589f567",
   "metadata": {},
   "outputs": [],
   "source": [
    "fig = px.histogram(combined_df,  x='churn_label',\n",
    "                    color='stream_movie',\n",
    "                    height = 400)\n",
    "\n",
    "\n",
    "fig.show()\n"
   ]
  },
  {
   "cell_type": "code",
   "execution_count": null,
   "id": "61482583",
   "metadata": {},
   "outputs": [],
   "source": [
    "fig = px.histogram(combined_df,  x='churn_label',\n",
    "                    color='stream_music',\n",
    "                    height = 400)\n",
    "\n",
    "\n",
    "fig.show()\n"
   ]
  },
  {
   "cell_type": "code",
   "execution_count": null,
   "id": "6ca1d958",
   "metadata": {},
   "outputs": [],
   "source": [
    "fig = px.histogram(combined_df,  x='churn_label',\n",
    "                    color='gender',\n",
    "                    height = 400)\n",
    "\n",
    "\n",
    "fig.show()\n"
   ]
  },
  {
   "cell_type": "code",
   "execution_count": null,
   "id": "fcb39033",
   "metadata": {},
   "outputs": [],
   "source": [
    "fig = px.histogram(combined_df,  x='churn_label',\n",
    "                    color='age',\n",
    "                    height = 400)\n",
    "\n",
    "\n",
    "fig.show()\n"
   ]
  },
  {
   "cell_type": "code",
   "execution_count": null,
   "id": "41c6ee5f",
   "metadata": {},
   "outputs": [],
   "source": [
    "fig = px.histogram(combined_df,  x='churn_label',\n",
    "                    color='senior_citizen',\n",
    "                    height = 400)\n",
    "\n",
    "\n",
    "fig.show()\n"
   ]
  },
  {
   "cell_type": "code",
   "execution_count": null,
   "id": "e57ab494",
   "metadata": {},
   "outputs": [],
   "source": [
    "fig = px.histogram(combined_df,  x='churn_label',\n",
    "                    color='married',\n",
    "                    height = 400)\n",
    "\n",
    "\n",
    "fig.show()\n"
   ]
  },
  {
   "cell_type": "code",
   "execution_count": null,
   "id": "a56e09b6",
   "metadata": {},
   "outputs": [],
   "source": [
    "fig = px.histogram(combined_df,  x='churn_label',\n",
    "                    color='num_dependents',\n",
    "                    height = 400)\n",
    "\n",
    "\n",
    "fig.show()\n"
   ]
  },
  {
   "cell_type": "code",
   "execution_count": null,
   "id": "8fbf3736",
   "metadata": {},
   "outputs": [],
   "source": [
    "fig = px.bar(combined_df['payment_method'].value_counts()) \n",
    "\n",
    "\n",
    "fig.show()"
   ]
  },
  {
   "cell_type": "code",
   "execution_count": null,
   "id": "6b6b456d",
   "metadata": {},
   "outputs": [],
   "source": [
    "fig = px.bar(combined_df['churn_label'].value_counts()) \n",
    "            \n",
    "fig.show()\n",
    "# From dataset, how many customers have churned in the last month"
   ]
  },
  {
   "cell_type": "code",
   "execution_count": null,
   "id": "7de46834",
   "metadata": {},
   "outputs": [],
   "source": [
    "yes_churn_df = combined_df[combined_df.churn_label == \"Yes\"]\n",
    "\n",
    "fig = px.bar(yes_churn_df['churn_category'].value_counts()) \n",
    "            \n",
    "fig.show()\n",
    "# From those that have churned, what is the main cause? Competitor"
   ]
  },
  {
   "cell_type": "markdown",
   "id": "b2306899",
   "metadata": {},
   "source": [
    "### Based on the above, features chosen  are \n",
    "### has_premium_tech_support, contract_type, internet_type, has_unlimited_data, num_dependents, num_referals"
   ]
  },
  {
   "cell_type": "markdown",
   "id": "733bdf58",
   "metadata": {},
   "source": [
    "### Quick EDA of the new DF to decide on how to engineer the features"
   ]
  },
  {
   "cell_type": "code",
   "execution_count": null,
   "id": "bea189ba",
   "metadata": {
    "scrolled": true
   },
   "outputs": [],
   "source": [
    "combined_df['num_dependents']"
   ]
  },
  {
   "cell_type": "code",
   "execution_count": null,
   "id": "e05ffecd",
   "metadata": {},
   "outputs": [],
   "source": [
    "combined_df['churn_label'].unique()"
   ]
  },
  {
   "cell_type": "code",
   "execution_count": null,
   "id": "4d37f2fe",
   "metadata": {},
   "outputs": [],
   "source": [
    "selected_df = combined_df[['has_premium_tech_support','contract_type','internet_type',\n",
    "             'has_unlimited_data','num_dependents', 'num_referrals',\n",
    "             'churn_label']]\n",
    "\n",
    "selected_df"
   ]
  },
  {
   "cell_type": "code",
   "execution_count": null,
   "id": "7182abce",
   "metadata": {},
   "outputs": [],
   "source": [
    "selected_df.nunique()"
   ]
  },
  {
   "cell_type": "code",
   "execution_count": null,
   "id": "e59a9466",
   "metadata": {},
   "outputs": [],
   "source": [
    "selected_df['has_unlimited_data'].unique()\n",
    "\n",
    "# to check out the values within the values all columns"
   ]
  },
  {
   "cell_type": "code",
   "execution_count": null,
   "id": "6445f17e",
   "metadata": {},
   "outputs": [],
   "source": [
    "selected_df.info()\n",
    "\n",
    "# no missing data found, most of the columns are categorical data"
   ]
  },
  {
   "cell_type": "markdown",
   "id": "4f0a22ea",
   "metadata": {},
   "source": [
    "### Feature Engineering"
   ]
  },
  {
   "cell_type": "code",
   "execution_count": null,
   "id": "47bd2855",
   "metadata": {},
   "outputs": [],
   "source": [
    "\n",
    "# replacing categorical data denoted by strings in each column to numerical values\n",
    "selected_df['has_premium_tech_support'].replace(['Yes','No'],[1,0], inplace=True) \n",
    "selected_df['contract_type'].replace(['Month-to-Month', 'Two Year', 'One Year'],[0,1,2], inplace=True) \n",
    "selected_df['internet_type'].replace(['Fiber Optic', 'Cable', 'DSL', 'None'],[1,2,3,0], inplace=True) \n",
    "selected_df['has_unlimited_data'].replace(['Yes','No'],[1,0], inplace=True)\n",
    "\n",
    "selected_df['churn_label'].replace(['Yes','No',''],[1,0,0], inplace=True)\n",
    "selected_df\n",
    "\n",
    "\n"
   ]
  },
  {
   "cell_type": "markdown",
   "id": "607ac615",
   "metadata": {},
   "source": [
    "### Testing out xgb as 1st model"
   ]
  },
  {
   "cell_type": "code",
   "execution_count": null,
   "id": "1bde3f7a",
   "metadata": {},
   "outputs": [],
   "source": [
    "import xgboost as xgb\n",
    "from sklearn.model_selection import train_test_split\n",
    "from sklearn import metrics\n",
    "import statistics\n",
    "\n",
    "features = ['has_premium_tech_support', 'contract_type', 'internet_type', \n",
    "            'has_unlimited_data', 'num_dependents','num_referrals']\n",
    "X = selected_df[features]\n",
    "y = selected_df['churn_label']\n",
    "\n",
    "X_train, X_test, y_train, y_test = train_test_split(X, y, test_size=0.30, random_state=5)\n",
    "\n",
    "\n",
    "# Instantiate the model object\n",
    "model = xgb.XGBClassifier(learning_rate=0.2, max_depth=2, min_child_weight=5, random_state=5)\n",
    "\n",
    "# Fit the model with the training data\n",
    "model.fit(X_train, y_train)\n",
    "\n",
    "# predict the target on the test dataset\n",
    "y_predict = model.predict(X_test)\n",
    "print('\\nPrediction on test data', y_predict) \n",
    "\n",
    "# Accuracy Score on test dataset\n",
    "accuracy_test = metrics.accuracy_score(y_test, y_predict)\n",
    "print('\\nAccuracy_score on test dataset : ', accuracy_test)"
   ]
  },
  {
   "cell_type": "code",
   "execution_count": null,
   "id": "dd13dfb8",
   "metadata": {},
   "outputs": [],
   "source": [
    "from catboost import CatBoostClassifier \n",
    "from sklearn.model_selection import train_test_split\n",
    "from sklearn import metrics\n",
    "import statistics\n",
    "\n",
    "features = ['has_premium_tech_support', 'contract_type', 'internet_type', \n",
    "            'has_unlimited_data', 'num_dependents','num_referrals']\n",
    "X = selected_df[features]\n",
    "y = selected_df['churn_label']\n",
    "\n",
    "X_train, X_test, y_train, y_test = train_test_split(X, y, test_size=0.30, random_state=5)\n",
    "\n",
    "\n",
    "# Instantiate the model object\n",
    "model = CatBoostClassifier(learning_rate=0.1, depth=1, random_seed=5)\n",
    "\n",
    "# Fit the model with the training data\n",
    "model.fit(X_train, y_train)\n",
    "\n",
    "# predict the target on the test dataset\n",
    "y_predict = model.predict(X_test)\n",
    "print('\\nPrediction on test data', y_predict) \n",
    "\n",
    "# Accuracy Score on test dataset\n",
    "accuracy_test = metrics.accuracy_score(y_test, y_predict)\n",
    "print('\\nAccuracy_score on test dataset : ', accuracy_test)"
   ]
  },
  {
   "cell_type": "markdown",
   "id": "396a837e",
   "metadata": {},
   "source": [
    "### Hyperparameter Tuning"
   ]
  },
  {
   "cell_type": "code",
   "execution_count": null,
   "id": "3abafaa5",
   "metadata": {},
   "outputs": [],
   "source": [
    "from sklearn.model_selection import GridSearchCV\n",
    "\n",
    "# this was performed for xgBoost\n",
    "param_grid = {\n",
    "    'max_depth': [1,2,3,4,5],\n",
    "    'min_child_weight': [1,2,3,4,5],\n",
    "    'eta': [0.1, 0.3, 0.5]\n",
    "}\n",
    "\n",
    "grid_search = GridSearchCV(estimator=xgb.XGBClassifier(), param_grid=param_grid, cv=10)\n",
    "grid_search.fit(X_train, y_train)\n"
   ]
  },
  {
   "cell_type": "code",
   "execution_count": null,
   "id": "f2a2283b",
   "metadata": {},
   "outputs": [],
   "source": [
    "from sklearn.model_selection import GridSearchCV\n",
    "param_grid = {\n",
    "    'depth': [1,2,3,4,5],\n",
    "    'learning_rate': [0.1]\n",
    "}\n",
    "\n",
    "grid_search = GridSearchCV(estimator= CatBoostClassifier(), param_grid=param_grid, cv=10)\n",
    "grid_search.fit(X_train, y_train)"
   ]
  },
  {
   "cell_type": "code",
   "execution_count": null,
   "id": "701aa1db",
   "metadata": {},
   "outputs": [],
   "source": [
    "# Get the best estimator\n",
    "best_estimator = grid_search.best_estimator_\n",
    "\n",
    "# Get the best hyperparameters\n",
    "best_params = grid_search.best_params_\n",
    "\n",
    "print(best_estimator)\n",
    "print()\n",
    "print(best_params)"
   ]
  },
  {
   "cell_type": "code",
   "execution_count": null,
   "id": "b10e56bc",
   "metadata": {},
   "outputs": [],
   "source": [
    "from catboost import CatBoostClassifier \n",
    "from sklearn.model_selection import train_test_split\n",
    "from sklearn import metrics\n",
    "import statistics\n",
    "\n",
    "features = ['has_premium_tech_support', 'contract_type', 'internet_type', \n",
    "            'has_unlimited_data', 'num_dependents','num_referrals']\n",
    "X = selected_df[features]\n",
    "y = selected_df['churn_label']\n",
    "\n",
    "X_train, X_test, y_train, y_test = train_test_split(X, y, test_size=0.30, random_state=5)\n",
    "\n",
    "\n",
    "# Instantiate the model object\n",
    "model = CatBoostClassifier(learning_rate=0.1, depth=2, random_seed=5)\n",
    "\n",
    "# Fit the model with the training data\n",
    "model.fit(X_train, y_train)\n",
    "\n",
    "# predict the target on the test dataset\n",
    "y_predict = model.predict(X_test)\n",
    "print('\\nPrediction on test data', y_predict) \n",
    "\n",
    "# Accuracy Score on test dataset\n",
    "accuracy_test = metrics.accuracy_score(y_test, y_predict)\n",
    "print('\\nAccuracy_score on test dataset : ', accuracy_test)"
   ]
  },
  {
   "cell_type": "markdown",
   "id": "54072e5d",
   "metadata": {},
   "source": [
    "Exporting Model"
   ]
  },
  {
   "cell_type": "code",
   "execution_count": null,
   "id": "eef95c3e",
   "metadata": {},
   "outputs": [],
   "source": [
    "from pathlib import Path\n",
    "\n",
    "Path(\"../model\").mkdir(exist_ok=True)"
   ]
  },
  {
   "cell_type": "code",
   "execution_count": null,
   "id": "89d6ff05",
   "metadata": {},
   "outputs": [],
   "source": [
    "import joblib\n",
    "\n",
    "joblib.dump(model, '../model/catboost_model.pkl')"
   ]
  }
 ],
 "metadata": {
  "kernelspec": {
   "display_name": "Python 3 (ipykernel)",
   "language": "python",
   "name": "python3"
  },
  "language_info": {
   "codemirror_mode": {
    "name": "ipython",
    "version": 3
   },
   "file_extension": ".py",
   "mimetype": "text/x-python",
   "name": "python",
   "nbconvert_exporter": "python",
   "pygments_lexer": "ipython3",
   "version": "3.10.9"
  }
 },
 "nbformat": 4,
 "nbformat_minor": 5
}
